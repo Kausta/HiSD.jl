{
 "cells": [
  {
   "cell_type": "code",
   "execution_count": 1,
   "id": "38b470ec-6fb6-4e27-8c14-d3c5d424a465",
   "metadata": {},
   "outputs": [
    {
     "name": "stderr",
     "output_type": "stream",
     "text": [
      "\u001b[32m\u001b[1m  Activating\u001b[22m\u001b[39m environment at `~/HiSD.jl/Project.toml`\n"
     ]
    }
   ],
   "source": [
    "using Pkg\n",
    "Pkg.activate(\"/kuacc/users/ckorkmaz16/HiSD.jl/\")"
   ]
  },
  {
   "cell_type": "code",
   "execution_count": 2,
   "id": "ad305bbc-2a39-4aa1-8888-ee5bea1c1a08",
   "metadata": {},
   "outputs": [
    {
     "name": "stdout",
     "output_type": "stream",
     "text": [
      "Mon Nov  8 15:46:43 2021       \n",
      "+-----------------------------------------------------------------------------+\n",
      "| NVIDIA-SMI 470.57.02    Driver Version: 470.57.02    CUDA Version: 11.4     |\n",
      "|-------------------------------+----------------------+----------------------+\n",
      "| GPU  Name        Persistence-M| Bus-Id        Disp.A | Volatile Uncorr. ECC |\n",
      "| Fan  Temp  Perf  Pwr:Usage/Cap|         Memory-Usage | GPU-Util  Compute M. |\n",
      "|                               |                      |               MIG M. |\n",
      "|===============================+======================+======================|\n",
      "|   0  Tesla T4            Off  | 00000000:1B:00.0 Off |                    0 |\n",
      "| N/A   38C    P0    26W /  70W |      0MiB / 15109MiB |      6%      Default |\n",
      "|                               |                      |                  N/A |\n",
      "+-------------------------------+----------------------+----------------------+\n",
      "                                                                               \n",
      "+-----------------------------------------------------------------------------+\n",
      "| Processes:                                                                  |\n",
      "|  GPU   GI   CI        PID   Type   Process name                  GPU Memory |\n",
      "|        ID   ID                                                   Usage      |\n",
      "|=============================================================================|\n",
      "|  No running processes found                                                 |\n",
      "+-----------------------------------------------------------------------------+\n"
     ]
    },
    {
     "data": {
      "text/plain": [
       "Process(`\u001b[4mnvidia-smi\u001b[24m`, ProcessExited(0))"
      ]
     },
     "execution_count": 2,
     "metadata": {},
     "output_type": "execute_result"
    }
   ],
   "source": [
    "run(`nvidia-smi`)"
   ]
  },
  {
   "cell_type": "code",
   "execution_count": 17,
   "id": "cff1300b-695a-4382-8b6c-4c143379cfa9",
   "metadata": {},
   "outputs": [
    {
     "name": "stderr",
     "output_type": "stream",
     "text": [
      "WARNING: replacing module Data.\n",
      "WARNING: replacing module Transformations.\n",
      "WARNING: replacing module Utils.\n"
     ]
    }
   ],
   "source": [
    "include(\"data.jl\")\n",
    "using .Data\n",
    "include(\"transformations.jl\")\n",
    "using .Transformations\n",
    "include(\"utils.jl\")\n",
    "using .Utils"
   ]
  },
  {
   "cell_type": "code",
   "execution_count": 80,
   "id": "55360009-996c-4c6a-b70f-c602f232bf58",
   "metadata": {},
   "outputs": [],
   "source": [
    "using Images, Interpolations\n",
    "using Images.FileIO\n",
    "using Statistics\n",
    "using Dates\n",
    "using TensorBoardLogger, Logging, Random\n",
    "using FileIO\n",
    "using CUDA: CUDA, CuArray\n",
    "using Knet"
   ]
  },
  {
   "cell_type": "code",
   "execution_count": 5,
   "id": "642872c9-79d2-4194-8abf-aa25b086946d",
   "metadata": {},
   "outputs": [
    {
     "name": "stdout",
     "output_type": "stream",
     "text": [
      "Loaded config\n"
     ]
    }
   ],
   "source": [
    "DATA_ROOT = \"/kuacc/users/ckorkmaz16/HiSD_out\"\n",
    "CONFIG_FILE = \"/kuacc/users/ckorkmaz16/HiSD.jl/configs/celeba-hq.yaml\"\n",
    "\n",
    "config = Utils.load_config(CONFIG_FILE)\n",
    "println(\"Loaded config\")"
   ]
  },
  {
   "cell_type": "code",
   "execution_count": 128,
   "id": "5c2b662f-eba8-489c-9c72-131a080457ae",
   "metadata": {},
   "outputs": [
    {
     "name": "stdout",
     "output_type": "stream",
     "text": [
      "Loaded 7 datasets\n"
     ]
    },
    {
     "data": {
      "text/plain": [
       "((128, 128, 3, 8), (2, 8), 8, KnetArray{Float32, 4}, Knet.KnetArrays.KnetMatrix{Float32})"
      ]
     },
     "execution_count": 128,
     "metadata": {},
     "output_type": "execute_result"
    }
   ],
   "source": [
    "datasets = Utils.get_train_datasets(config, DATA_ROOT)\n",
    "println(\"Loaded $(sum(length.(datasets))) datasets\")\n",
    "(x,y),i = iterate(datasets[1][1], 0)\n",
    "size(x), size(y), i, typeof(x), typeof(y)"
   ]
  },
  {
   "cell_type": "code",
   "execution_count": 20,
   "id": "3c491e74-ec9f-43db-9414-698d66fdfc9e",
   "metadata": {},
   "outputs": [
    {
     "data": {
      "text/plain": [
       "show_image (generic function with 1 method)"
      ]
     },
     "execution_count": 20,
     "metadata": {},
     "output_type": "execute_result"
    }
   ],
   "source": [
    "function show_image(x, i)\n",
    "    xs = x[:,:,:,i:i]\n",
    "    xs = permutedims(xs, [4, 3, 1, 2])\n",
    "    image = reshape(xs, size(xs)[2:end]...)\n",
    "    image = convert(Array, image)    \n",
    "    image = image .* 0.5 .+ 0.5\n",
    "    image = clamp.(image, 0.0, 1.0)\n",
    "    image = image .|> N0f8 |> colorview(RGB)\n",
    "    image \n",
    "end"
   ]
  },
  {
   "cell_type": "code",
   "execution_count": 133,
   "id": "810fa565-ebfe-46ae-86f5-bbd0014dc00f",
   "metadata": {},
   "outputs": [
    {
     "name": "stderr",
     "output_type": "stream",
     "text": [
      "WARNING: replacing module Network.\n"
     ]
    }
   ],
   "source": [
    "module Network\n",
    "\n",
    "using Knet\n",
    "include(\"primitives.jl\")\n",
    "using .Primitives\n",
    "\n",
    "export DownBlock\n",
    "struct DownBlock; conv1; conv2; sc; activ; end\n",
    "DownBlock(in_ch::Int,out_ch::Int) = \n",
    "    DownBlock(Conv(in_ch, in_ch, 3, 1), Conv(in_ch, out_ch, 3, 1), Conv(in_ch, out_ch, 1, 0, bias=false), LeakyRelu(0.2))\n",
    "function (d::DownBlock)(x)\n",
    "    residual = avg_pool2d(d.sc(x), 2)\n",
    "    out = d.conv2(d.activ(avg_pool2d(d.conv1(d.activ(x)), 2)))\n",
    "    return (residual + out) / sqrt(2)  \n",
    "end\n",
    "\n",
    "export DownBlockIN\n",
    "struct DownBlockIN; conv1; conv2; in1; in2; sc; activ; end\n",
    "DownBlockIN(in_ch::Int,out_ch::Int) = \n",
    "    DownBlockIN(Conv(in_ch, in_ch, 3, 1), Conv(in_ch, out_ch, 3, 1), \n",
    "                InstanceNorm2d(in_ch), InstanceNorm2d(in_ch),\n",
    "                Conv(in_ch, out_ch, 1, 0, bias=false), LeakyRelu(0.2))\n",
    "function (d::DownBlockIN)(x)\n",
    "    residual = avg_pool2d(d.sc(x), 2)\n",
    "    out = d.conv2(d.activ(d.in2(avg_pool2d(d.conv1(d.activ(d.in1(x))), 2))))\n",
    "    return (residual + out) / sqrt(2)  \n",
    "end\n",
    "\n",
    "export UpBlock\n",
    "struct UpBlock; conv1; conv2; sc; activ; end\n",
    "UpBlock(in_ch::Int,out_ch::Int) = \n",
    "    UpBlock(Conv(in_ch, out_ch, 3, 1), Conv(out_ch, out_ch, 3, 1), Conv(in_ch, out_ch, 1, 0, bias=false), LeakyRelu(0.2))\n",
    "function (d::UpBlock)(x)\n",
    "    residual = upsample2d(d.sc(x), 2)\n",
    "    out = d.conv2(d.activ(d.conv1(upsample2d(d.activ(x), 2))))\n",
    "    return (residual + out) / sqrt(2)  \n",
    "end\n",
    "\n",
    "export UpBlockIN\n",
    "struct UpBlockIN; conv1; conv2; in1; in2; sc; activ; end\n",
    "UpBlockIN(in_ch::Int,out_ch::Int) = \n",
    "    UpBlockIN(Conv(in_ch, out_ch, 3, 1), Conv(out_ch, out_ch, 3, 1), \n",
    "              InstanceNorm2d(in_ch), InstanceNorm2d(out_ch),\n",
    "              Conv(in_ch, out_ch, 1, 0, bias=false), LeakyRelu(0.2))\n",
    "function (d::UpBlockIN)(x)\n",
    "    residual = upsample2d(d.sc(x), 2)\n",
    "    out = d.conv2(d.activ(d.in2(d.conv1(upsample2d(d.activ(d.in1(x)), 2)))))\n",
    "    return (residual + out) / sqrt(2)  \n",
    "end\n",
    "\n",
    "\n",
    "export MiddleBlock, num_adain_params, assign_adain_params\n",
    "struct MiddleBlock; conv1; conv2; adain1; adain2; sc; activ; end\n",
    "MiddleBlock(in_ch::Int,out_ch::Int) = \n",
    "    MiddleBlock(Conv(in_ch, out_ch, 3, 1), Conv(out_ch, out_ch, 3, 1), \n",
    "                AdaptiveInstanceNorm2d(in_ch), AdaptiveInstanceNorm2d(out_ch),\n",
    "                Conv(in_ch, out_ch, 1, 0, bias=false), LeakyRelu(0.2))\n",
    "function (d::MiddleBlock)(x)\n",
    "    residual = d.sc(x)\n",
    "    out = d.conv2(d.activ(d.adain2(d.conv1(d.activ(d.adain1(x))))))\n",
    "    return (residual + out) / sqrt(2)  \n",
    "end\n",
    "Primitives.num_adain_params(d::MiddleBlock) = num_adain_params(d.adain1) + num_adain_params(d.adain2)\n",
    "function Primitives.assign_adain_params(d::MiddleBlock, params)\n",
    "    params = assign_adain_params(d.adain1, params)\n",
    "    params = assign_adain_params(d.adain2, params)\n",
    "    return params\n",
    "end\n",
    "\n",
    "export LinearBlock\n",
    "struct LinearBlock; l; end\n",
    "LinearBlock(in_dim::Int, out_dim::Int) = LinearBlock(Linear(in_dim, out_dim))\n",
    "(l::LinearBlock)(x) = l(relu.(x))\n",
    "\n",
    "export Extractors\n",
    "struct Extractors; num_tags; model; end\n",
    "function Extractors(config) \n",
    "    num_tags = length(config[\"tags\"])\n",
    "    channels = config[\"extractors\"][\"channels\"]\n",
    "    Extractors(num_tags, Chain(\n",
    "            Conv(config[\"input_dim\"], channels[1], 1, 0), \n",
    "            [DownBlock(channels[i], channels[i + 1]) for i in 1:(length(channels)-1)]...,\n",
    "            AdaptiveAvgPool2d(1),\n",
    "            Conv(channels[end],  config[\"style_dim\"] * num_tags, 1, 0),\n",
    "        )\n",
    "    )\n",
    "end\n",
    "function (e::Extractors)(x, i)\n",
    "    sty = e.model(x)\n",
    "    sz = size(sty)\n",
    "    sty = reshape(sty, (prod(sz) ÷ (e.num_tags * sz[end]), e.num_tags, sz[end]))\n",
    "    return sty[:, i, :]\n",
    "end\n",
    "\n",
    "export Mapper\n",
    "struct Mapper; pre_model; post_models; end\n",
    "function Mapper(config, num_attributes::Int64)\n",
    "    channels = config[\"mappers\"][\"pre_channels\"]\n",
    "    pre_model = Chain(\n",
    "        Linear(config[\"noise_dim\"], channels[1]),\n",
    "        [LinearBlock(channels[i], channels[i+1]) for i in 1:(length(channels)-1)]...\n",
    "    )\n",
    "    channels = config[\"mappers\"][\"post_channels\"]\n",
    "    post_models = [\n",
    "        Chain(\n",
    "            [LinearBlock(channels[i], channels[i+1]) for i in 1:(length(channels)-1)]...,\n",
    "            Linear(channels[end], config[\"style_dim\"])\n",
    "        ) for i in 1:num_attributes\n",
    "    ]\n",
    "    Mapper(pre_model, post_models)\n",
    "end\n",
    "(m::Mapper)(z, j) = post_models[j](pre_model(z))\n",
    "\n",
    "export Translator\n",
    "struct Translator; model; style_to_params; features; masks; end\n",
    "function Translator(config)\n",
    "    channels = config[\"translators\"][\"channels\"]\n",
    "    model = Chain(\n",
    "        Conv(config[\"encoder\"][\"channels\"][end], channels[1], 1, 0),\n",
    "        [MiddleBlock(channels[i], channels[i+1]) for i in 1:(length(channels)-1)]...\n",
    "    )\n",
    "    style_to_params = Linear(config[\"style_dim\"], num_adain_params(model))\n",
    "    features = Chain(\n",
    "        Conv(channels[end], config[\"decoder\"][\"channels\"][1], 1, 0)\n",
    "    )\n",
    "    masks = Chain(\n",
    "        Conv(channels[end], config[\"decoder\"][\"channels\"][1], 1, 0),\n",
    "        Sigmoid()\n",
    "    )\n",
    "    Translator(model, style_to_params, features, masks)\n",
    "end\n",
    "function (t::Translator)(e, s)\n",
    "    p = t.style_to_params(s)\n",
    "    assign_adain_params(t.model, p)\n",
    "    \n",
    "    mid = t.model(e)\n",
    "    f = t.features(mid)\n",
    "    m = t.masks(mid)\n",
    "    \n",
    "    return f * m + e * (1-m)\n",
    "end\n",
    "\n",
    "export Generator, encode, decode, extract, map, translate\n",
    "struct Generator; tags; style_dim; noise_dim; encoder; decoder; extractors; translators; mappers; end\n",
    "function Generator(config)\n",
    "    tags = config[\"tags\"]\n",
    "    style_dim = config[\"style_dim\"]\n",
    "    noise_dim = config[\"noise_dim\"]\n",
    "    \n",
    "    channels = config[\"encoder\"][\"channels\"]\n",
    "    encoder = Chain(\n",
    "        Conv(config[\"input_dim\"], channels[1], 1, 0),\n",
    "        [DownBlockIN(channels[i], channels[i+1]) for i in 1:(length(channels)-1)]...\n",
    "    )\n",
    "    \n",
    "    channels = config[\"decoder\"][\"channels\"]\n",
    "    decoder = Chain(\n",
    "        [UpBlockIN(channels[i], channels[i+1]) for i in 1:(length(channels)-1)]...,\n",
    "        Conv(channels[end], config[\"input_dim\"], 1, 0)\n",
    "    )\n",
    "    \n",
    "    extractors = Extractors(config)\n",
    "    translators = [Translator(config) for i in 1:length(tags)]\n",
    "    mappers = [Mapper(config, length(tags[i][\"attributes\"])) for i in 1:length(tags)]\n",
    "    \n",
    "    Generator(tags, style_dim, noise_dim, encoder, decoder, extractors, translators, mappers)\n",
    "end\n",
    "encode(g::Generator, x) = g.encoder(x)\n",
    "decode(g::Generator, e) = g.decoder(e)\n",
    "extract(g::Generator, x, i) = g.extractors(x, i)\n",
    "map(g::Generator, z, i, j) = g.mappers[i](z, j)\n",
    "translate(g::Generator, e, s, i) = g.translators[i](e, s)\n",
    "\n",
    "#TODO: Discriminator\n",
    "\n",
    "export Discriminator\n",
    "struct Discriminator; tags; conv; fcs; end\n",
    "function Discriminator(config)\n",
    "    tags = config[\"tags\"]\n",
    "    channels = config[\"discriminators\"][\"channels\"]\n",
    "    conv = Chain(\n",
    "        Conv(config[\"input_dim\"], channels[1], 1, 0),\n",
    "        [DownBlock(channels[i], channels[i+1]) for i in 1:(length(channels)-1)]...,\n",
    "        AdaptiveAvgPool2d(1)\n",
    "    )\n",
    "    \n",
    "    fcs = [\n",
    "        Chain(\n",
    "            Conv(channels[end] + \n",
    "                 # ALI part, not shown in original submission\n",
    "                 # config[\"style_dim\"] + \n",
    "                 # Tag-irrelevant part. Sec.3.4\n",
    "                 tags[i][\"tag_irrelevant_conditions_dim\"],\n",
    "                 # One for translated, one for cycle. Eq.4\n",
    "                 length(tags[i][\"attributes\"]) * 2, 1, 0)\n",
    "        ) for i in 1:length(tags)\n",
    "    ]\n",
    "    \n",
    "    Discriminator(tags, conv, fcs)\n",
    "end\n",
    "function (d::Discriminator)(x, #=s,=# y, i)\n",
    "    f = d.conv(x)\n",
    "    # TODO: Change tile_like's, what we need is simpler\n",
    "    # Original implementation does this after AdaptiveAvgPool2d like us, which is not necessary\n",
    "    # Everything is already 1x1xCxB\n",
    "    fsy = cat(f, #= tile_like(s, f), =# tile_like(y, f), dims=3)\n",
    "    out = self.fcs[i](fsy)\n",
    "    so = size(out)\n",
    "    return reshape(out, (prod(so) / (2*so[end]), 2, so[end]))\n",
    "end\n",
    "\n",
    "export dis_loss_real, dis_loss_fake_trg, dis_loss_fake_cyc, gen_loss_real, gen_loss_fake_trg, gen_loss_fake_cyc\n",
    "function dis_loss_real(d::Discriminator, x, y, i, j)\n",
    "    out = d(x, y, i)[j, :, :]\n",
    "    loss = mean(relu.(1 .- out[1, :])) + mean(relu.(1 .- out[2, :]))\n",
    "    # R1 regularization (TODO: better implementations?, this requires running the model 3 times)\n",
    "    # loss += grad2(out[:, 0], x) + grad2(out[:, 1], x)\n",
    "    x = Param(x)\n",
    "    gout1 = @diff sum(d(x, y, i)[j, 1, :])\n",
    "    gout1_grad = grad(gout1, x)\n",
    "    loss += mean(sum(abs2.(gout1_grad),dims=2))\n",
    "    gout2 = @diff sum(d(x, y, i)[j, 2, :])\n",
    "    gout2_grad = grad(gout2, x)\n",
    "    loss += mean(sum(abs2.(gout2_grad),dims=2))\n",
    "    return loss\n",
    "end\n",
    "function dis_loss_fake_trg(d::Discriminator, x, y, i, j)\n",
    "    out = d(x, y, i)[j, :, :]\n",
    "    loss = mean(relu.(1 .+ out[1, :]))\n",
    "    return loss\n",
    "end\n",
    "function dis_loss_fake_cyc(d::Discriminator, x, y, i, j)\n",
    "    out = d(x, y, i)[j, :, :]\n",
    "    loss = mean(relu.(1 .+ out[2, :]))\n",
    "    return loss\n",
    "end\n",
    "function gen_loss_real(d::Discriminator, x, y, i, j)\n",
    "    out = d(x, y, i)[j, :, :]\n",
    "    loss = mean(out[1, :]) + mean(out[2, :])\n",
    "    return loss\n",
    "end\n",
    "function gen_loss_fake_trg(d::Discriminator, x, y, i, j)\n",
    "    out = d(x, y, i)[j, :, :]\n",
    "    loss = -mean(out[1, :])\n",
    "    return loss\n",
    "end\n",
    "function gen_loss_fake_cyc(d::Discriminator, x, y, i, j)\n",
    "    out = d(x, y, i)[j, :, :]\n",
    "    loss = -mean(out[2, :])\n",
    "    return loss\n",
    "end\n",
    "\n",
    "end\n",
    "\n",
    "using .Network"
   ]
  },
  {
   "cell_type": "code",
   "execution_count": 134,
   "id": "5a7166b4-1df1-4e77-9541-945fe07e835f",
   "metadata": {},
   "outputs": [
    {
     "data": {
      "text/plain": [
       "Main.Network.Discriminator(Dict{Any, Any}[Dict(\"name\" => \"Bangs\", \"attributes\" => Dict{Any, Any}[Dict(\"name\" => \"with\", \"filename\" => \"datasets/Bangs_with.txt\"), Dict(\"name\" => \"without\", \"filename\" => \"datasets/Bangs_without.txt\")], \"tag_irrelevant_conditions_dim\" => 2), Dict(\"name\" => \"Eyeglasses\", \"attributes\" => Dict{Any, Any}[Dict(\"name\" => \"with\", \"filename\" => \"datasets/Eyeglasses_with.txt\"), Dict(\"name\" => \"without\", \"filename\" => \"datasets/Eyeglasses_without.txt\")], \"tag_irrelevant_conditions_dim\" => 2), Dict(\"name\" => \"HairColor\", \"attributes\" => Dict{Any, Any}[Dict(\"name\" => \"black\", \"filename\" => \"datasets/HairColor_black.txt\"), Dict(\"name\" => \"blond\", \"filename\" => \"datasets/HairColor_blond.txt\"), Dict(\"name\" => \"brown\", \"filename\" => \"datasets/HairColor_brown.txt\")], \"tag_irrelevant_conditions_dim\" => 2)], Main.Network.Primitives.Chain((Main.Network.Primitives.Conv(P(KnetArray{Float32, 4}(1,1,3,64)), P(KnetArray{Float32, 4}(1,1,64,1)), 0, 1), Main.Network.DownBlock(Main.Network.Primitives.Conv(P(KnetArray{Float32, 4}(3,3,64,64)), P(KnetArray{Float32, 4}(1,1,64,1)), 1, 1), Main.Network.Primitives.Conv(P(KnetArray{Float32, 4}(3,3,64,128)), P(KnetArray{Float32, 4}(1,1,128,1)), 1, 1), Main.Network.Primitives.Conv(P(KnetArray{Float32, 4}(1,1,64,128)), nothing, 0, 1), Main.Network.Primitives.LeakyRelu(0.2)), Main.Network.DownBlock(Main.Network.Primitives.Conv(P(KnetArray{Float32, 4}(3,3,128,128)), P(KnetArray{Float32, 4}(1,1,128,1)), 1, 1), Main.Network.Primitives.Conv(P(KnetArray{Float32, 4}(3,3,128,256)), P(KnetArray{Float32, 4}(1,1,256,1)), 1, 1), Main.Network.Primitives.Conv(P(KnetArray{Float32, 4}(1,1,128,256)), nothing, 0, 1), Main.Network.Primitives.LeakyRelu(0.2)), Main.Network.DownBlock(Main.Network.Primitives.Conv(P(KnetArray{Float32, 4}(3,3,256,256)), P(KnetArray{Float32, 4}(1,1,256,1)), 1, 1), Main.Network.Primitives.Conv(P(KnetArray{Float32, 4}(3,3,256,512)), P(KnetArray{Float32, 4}(1,1,512,1)), 1, 1), Main.Network.Primitives.Conv(P(KnetArray{Float32, 4}(1,1,256,512)), nothing, 0, 1), Main.Network.Primitives.LeakyRelu(0.2)), Main.Network.DownBlock(Main.Network.Primitives.Conv(P(KnetArray{Float32, 4}(3,3,512,512)), P(KnetArray{Float32, 4}(1,1,512,1)), 1, 1), Main.Network.Primitives.Conv(P(KnetArray{Float32, 4}(3,3,512,1024)), P(KnetArray{Float32, 4}(1,1,1024,1)), 1, 1), Main.Network.Primitives.Conv(P(KnetArray{Float32, 4}(1,1,512,1024)), nothing, 0, 1), Main.Network.Primitives.LeakyRelu(0.2)), Main.Network.DownBlock(Main.Network.Primitives.Conv(P(KnetArray{Float32, 4}(3,3,1024,1024)), P(KnetArray{Float32, 4}(1,1,1024,1)), 1, 1), Main.Network.Primitives.Conv(P(KnetArray{Float32, 4}(3,3,1024,2048)), P(KnetArray{Float32, 4}(1,1,2048,1)), 1, 1), Main.Network.Primitives.Conv(P(KnetArray{Float32, 4}(1,1,1024,2048)), nothing, 0, 1), Main.Network.Primitives.LeakyRelu(0.2)), Main.Network.Primitives.AdaptiveAvgPool2d(1))), Main.Network.Primitives.Chain[Main.Network.Primitives.Chain((Main.Network.Primitives.Conv(P(KnetArray{Float32, 4}(1,1,2050,4)), P(KnetArray{Float32, 4}(1,1,4,1)), 0, 1),)), Main.Network.Primitives.Chain((Main.Network.Primitives.Conv(P(KnetArray{Float32, 4}(1,1,2050,4)), P(KnetArray{Float32, 4}(1,1,4,1)), 0, 1),)), Main.Network.Primitives.Chain((Main.Network.Primitives.Conv(P(KnetArray{Float32, 4}(1,1,2050,6)), P(KnetArray{Float32, 4}(1,1,6,1)), 0, 1),))])"
      ]
     },
     "execution_count": 134,
     "metadata": {},
     "output_type": "execute_result"
    }
   ],
   "source": [
    "c = Network.Discriminator(config)"
   ]
  },
  {
   "cell_type": "code",
   "execution_count": 118,
   "id": "8e93f53b-0ea4-4e0f-b929-b83f0cba7ed4",
   "metadata": {},
   "outputs": [
    {
     "name": "stderr",
     "output_type": "stream",
     "text": [
      "┣████████████████████┫ [100.00%, 1000/1000, 02:18/02:18, 7.25i/s] \n"
     ]
    }
   ],
   "source": [
    "GC.gc(true)\n",
    "l(x,y) = mean(abs2.(x-Network.decode(c, Network.encode(c, x))))\n",
    "progress!(adam(l, Iterators.take(datasets[1][1], 1000)))"
   ]
  },
  {
   "cell_type": "code",
   "execution_count": 119,
   "id": "b5e55e34-774c-449f-8c69-34c4753a3f1d",
   "metadata": {},
   "outputs": [
    {
     "data": {
      "image/png": "[encoded data removed]",
      "text/plain": [
       "128×128 reinterpret(reshape, RGB{N0f8}, ::Array{N0f8,3}) with eltype RGB{N0f8}:\n",
       " RGB{N0f8}(0.357,0.294,0.278)  …  RGB{N0f8}(0.608,0.455,0.345)\n",
       " RGB{N0f8}(0.357,0.294,0.278)     RGB{N0f8}(0.62,0.471,0.361)\n",
       " RGB{N0f8}(0.357,0.294,0.294)     RGB{N0f8}(0.624,0.49,0.388)\n",
       " RGB{N0f8}(0.357,0.294,0.294)     RGB{N0f8}(0.631,0.506,0.404)\n",
       " RGB{N0f8}(0.357,0.294,0.294)     RGB{N0f8}(0.643,0.518,0.416)\n",
       " RGB{N0f8}(0.357,0.294,0.294)  …  RGB{N0f8}(0.651,0.525,0.427)\n",
       " RGB{N0f8}(0.357,0.294,0.294)     RGB{N0f8}(0.647,0.533,0.439)\n",
       " RGB{N0f8}(0.357,0.294,0.294)     RGB{N0f8}(0.643,0.529,0.435)\n",
       " RGB{N0f8}(0.353,0.298,0.302)     RGB{N0f8}(0.635,0.522,0.427)\n",
       " RGB{N0f8}(0.353,0.298,0.302)     RGB{N0f8}(0.624,0.51,0.412)\n",
       " RGB{N0f8}(0.353,0.298,0.302)  …  RGB{N0f8}(0.624,0.486,0.388)\n",
       " RGB{N0f8}(0.349,0.294,0.298)     RGB{N0f8}(0.616,0.475,0.376)\n",
       " RGB{N0f8}(0.349,0.294,0.298)     RGB{N0f8}(0.612,0.471,0.373)\n",
       " ⋮                             ⋱  \n",
       " RGB{N0f8}(0.51,0.404,0.376)      RGB{N0f8}(0.298,0.329,0.153)\n",
       " RGB{N0f8}(0.514,0.408,0.38)      RGB{N0f8}(0.282,0.306,0.133)\n",
       " RGB{N0f8}(0.502,0.4,0.376)       RGB{N0f8}(0.557,0.557,0.388)\n",
       " RGB{N0f8}(0.486,0.384,0.361)     RGB{N0f8}(0.812,0.784,0.667)\n",
       " RGB{N0f8}(0.467,0.361,0.341)  …  RGB{N0f8}(0.725,0.694,0.557)\n",
       " RGB{N0f8}(0.447,0.341,0.322)     RGB{N0f8}(0.486,0.471,0.325)\n",
       " RGB{N0f8}(0.427,0.325,0.306)     RGB{N0f8}(0.341,0.349,0.227)\n",
       " RGB{N0f8}(0.42,0.318,0.298)      RGB{N0f8}(0.125,0.165,0.075)\n",
       " RGB{N0f8}(0.412,0.31,0.29)       RGB{N0f8}(0.086,0.125,0.051)\n",
       " RGB{N0f8}(0.412,0.31,0.29)    …  RGB{N0f8}(0.09,0.133,0.055)\n",
       " RGB{N0f8}(0.42,0.318,0.298)      RGB{N0f8}(0.071,0.122,0.055)\n",
       " RGB{N0f8}(0.435,0.329,0.31)      RGB{N0f8}(0.047,0.106,0.035)"
      ]
     },
     "execution_count": 119,
     "metadata": {},
     "output_type": "execute_result"
    }
   ],
   "source": [
    "show_image(x, 1)"
   ]
  },
  {
   "cell_type": "code",
   "execution_count": 122,
   "id": "ddc22c3a-4e30-43f8-ae34-15de58231c14",
   "metadata": {},
   "outputs": [
    {
     "data": {
      "image/png": "[encoded data removed]",
      "text/plain": [
       "128×128 reinterpret(reshape, RGB{N0f8}, ::Array{N0f8,3}) with eltype RGB{N0f8}:\n",
       " RGB{N0f8}(0.42,0.31,0.365)    …  RGB{N0f8}(0.592,0.498,0.341)\n",
       " RGB{N0f8}(0.337,0.298,0.333)     RGB{N0f8}(0.557,0.608,0.392)\n",
       " RGB{N0f8}(0.357,0.31,0.314)      RGB{N0f8}(0.647,0.482,0.463)\n",
       " RGB{N0f8}(0.349,0.322,0.302)     RGB{N0f8}(0.639,0.518,0.431)\n",
       " RGB{N0f8}(0.373,0.275,0.325)     RGB{N0f8}(0.663,0.49,0.459)\n",
       " RGB{N0f8}(0.38,0.298,0.322)   …  RGB{N0f8}(0.663,0.522,0.467)\n",
       " RGB{N0f8}(0.38,0.31,0.31)        RGB{N0f8}(0.698,0.518,0.478)\n",
       " RGB{N0f8}(0.384,0.306,0.314)     RGB{N0f8}(0.698,0.529,0.471)\n",
       " RGB{N0f8}(0.388,0.31,0.302)      RGB{N0f8}(0.659,0.502,0.49)\n",
       " RGB{N0f8}(0.388,0.31,0.31)       RGB{N0f8}(0.655,0.494,0.486)\n",
       " RGB{N0f8}(0.38,0.314,0.31)    …  RGB{N0f8}(0.663,0.486,0.475)\n",
       " RGB{N0f8}(0.376,0.31,0.318)      RGB{N0f8}(0.663,0.486,0.471)\n",
       " RGB{N0f8}(0.38,0.306,0.318)      RGB{N0f8}(0.671,0.478,0.471)\n",
       " ⋮                             ⋱  \n",
       " RGB{N0f8}(0.506,0.392,0.337)     RGB{N0f8}(0.494,0.478,0.38)\n",
       " RGB{N0f8}(0.502,0.384,0.333)     RGB{N0f8}(0.408,0.439,0.322)\n",
       " RGB{N0f8}(0.49,0.4,0.325)        RGB{N0f8}(0.396,0.384,0.349)\n",
       " RGB{N0f8}(0.467,0.392,0.298)     RGB{N0f8}(0.396,0.373,0.373)\n",
       " RGB{N0f8}(0.459,0.361,0.333)  …  RGB{N0f8}(0.404,0.294,0.294)\n",
       " RGB{N0f8}(0.451,0.357,0.322)     RGB{N0f8}(0.38,0.302,0.231)\n",
       " RGB{N0f8}(0.435,0.353,0.318)     RGB{N0f8}(0.396,0.251,0.216)\n",
       " RGB{N0f8}(0.416,0.349,0.306)     RGB{N0f8}(0.376,0.224,0.227)\n",
       " RGB{N0f8}(0.427,0.325,0.263)     RGB{N0f8}(0.267,0.208,0.161)\n",
       " RGB{N0f8}(0.443,0.318,0.286)  …  RGB{N0f8}(0.239,0.224,0.18)\n",
       " RGB{N0f8}(0.373,0.263,0.282)     RGB{N0f8}(0.255,0.239,0.196)\n",
       " RGB{N0f8}(0.431,0.318,0.282)     RGB{N0f8}(0.251,0.29,0.149)"
      ]
     },
     "execution_count": 122,
     "metadata": {},
     "output_type": "execute_result"
    }
   ],
   "source": [
    "show_image(Network.decode(c, Network.encode(c, x)), 1)"
   ]
  },
  {
   "cell_type": "code",
   "execution_count": 127,
   "id": "b53ef598-6308-424a-b851-c1f23de0d9ea",
   "metadata": {},
   "outputs": [],
   "source": [
    "GC.gc(true)"
   ]
  },
  {
   "cell_type": "code",
   "execution_count": 126,
   "id": "509b83d6-b5e9-45e9-a96d-124e0ac62125",
   "metadata": {},
   "outputs": [
    {
     "data": {
      "text/plain": [
       "Process(`\u001b[4mnvidia-smi\u001b[24m`, ProcessExited(0))"
      ]
     },
     "execution_count": 126,
     "metadata": {},
     "output_type": "execute_result"
    }
   ],
   "source": [
    "run(`nvidia-smi`)"
   ]
  }
 ],
 "metadata": {
  "kernelspec": {
   "display_name": "Julia 1.6.3",
   "language": "julia",
   "name": "julia-1.6"
  },
  "language_info": {
   "file_extension": ".jl",
   "mimetype": "application/julia",
   "name": "julia",
   "version": "1.6.3"
  }
 },
 "nbformat": 4,
 "nbformat_minor": 5
}
