{
 "cells": [
  {
   "cell_type": "code",
   "execution_count": 1,
   "id": "38b470ec-6fb6-4e27-8c14-d3c5d424a465",
   "metadata": {},
   "outputs": [
    {
     "name": "stderr",
     "output_type": "stream",
     "text": [
      "\u001b[32m\u001b[1m  Activating\u001b[22m\u001b[39m environment at `~/HiSD.jl/Project.toml`\n"
     ]
    }
   ],
   "source": [
    "using Pkg\n",
    "Pkg.activate(\"/kuacc/users/ckorkmaz16/HiSD.jl/\")"
   ]
  },
  {
   "cell_type": "code",
   "execution_count": 33,
   "id": "ab189822-8d48-4a8f-945a-9d654a7c3a59",
   "metadata": {},
   "outputs": [
    {
     "name": "stderr",
     "output_type": "stream",
     "text": [
      "\u001b[32m\u001b[1m   Resolving\u001b[22m\u001b[39m package versions...\n",
      "\u001b[32m\u001b[1m    Updating\u001b[22m\u001b[39m `/scratch/users/ckorkmaz16/HiSD.jl/Project.toml`\n",
      " \u001b[90m [872c559c] \u001b[39m\u001b[92m+ NNlib v0.7.29\u001b[39m\n",
      "\u001b[32m\u001b[1m  No Changes\u001b[22m\u001b[39m to `/scratch/users/ckorkmaz16/HiSD.jl/Manifest.toml`\n"
     ]
    }
   ],
   "source": [
    "Pkg.add([\"NNlib\"])"
   ]
  },
  {
   "cell_type": "code",
   "execution_count": 2,
   "id": "cff1300b-695a-4382-8b6c-4c143379cfa9",
   "metadata": {},
   "outputs": [],
   "source": [
    "include(\"data.jl\")\n",
    "using .Data\n",
    "include(\"transformations.jl\")\n",
    "using .Transformations\n",
    "include(\"utils.jl\")\n",
    "using .Utils"
   ]
  },
  {
   "cell_type": "code",
   "execution_count": 3,
   "id": "55360009-996c-4c6a-b70f-c602f232bf58",
   "metadata": {},
   "outputs": [],
   "source": [
    "using Images, Interpolations\n",
    "using Images.FileIO\n",
    "using Statistics\n",
    "using Dates\n",
    "using TensorBoardLogger, Logging, Random\n",
    "using FileIO\n",
    "using CUDA\n",
    "using Knet"
   ]
  },
  {
   "cell_type": "code",
   "execution_count": 4,
   "id": "642872c9-79d2-4194-8abf-aa25b086946d",
   "metadata": {},
   "outputs": [
    {
     "name": "stdout",
     "output_type": "stream",
     "text": [
      "Loaded config\n"
     ]
    }
   ],
   "source": [
    "DATA_ROOT = \"/kuacc/users/ckorkmaz16/HiSD_out\"\n",
    "CONFIG_FILE = \"/kuacc/users/ckorkmaz16/HiSD.jl/configs/celeba-hq.yaml\"\n",
    "\n",
    "config = Utils.load_config(CONFIG_FILE)\n",
    "println(\"Loaded config\")"
   ]
  },
  {
   "cell_type": "code",
   "execution_count": 28,
   "id": "5c2b662f-eba8-489c-9c72-131a080457ae",
   "metadata": {},
   "outputs": [
    {
     "name": "stdout",
     "output_type": "stream",
     "text": [
      "Loaded 7 datasets\n"
     ]
    },
    {
     "data": {
      "text/plain": [
       "((128, 128, 3, 8), (2, 8), 8, KnetArray{Float32, 4}, Knet.KnetArrays.KnetMatrix{Float32})"
      ]
     },
     "execution_count": 28,
     "metadata": {},
     "output_type": "execute_result"
    }
   ],
   "source": [
    "datasets = Utils.get_train_datasets(config, DATA_ROOT)\n",
    "println(\"Loaded $(sum(length.(datasets))) datasets\")\n",
    "(x,y),i = iterate(datasets[1][1], 0)\n",
    "size(x), size(y), i, typeof(x), typeof(y)"
   ]
  },
  {
   "cell_type": "code",
   "execution_count": 89,
   "id": "3c491e74-ec9f-43db-9414-698d66fdfc9e",
   "metadata": {},
   "outputs": [
    {
     "data": {
      "text/plain": [
       "show_image (generic function with 1 method)"
      ]
     },
     "execution_count": 89,
     "metadata": {},
     "output_type": "execute_result"
    }
   ],
   "source": [
    "function show_image(x, i)\n",
    "    xs = x[:,:,:,i:i]\n",
    "    xs = permutedims(xs, [4, 3, 1, 2])\n",
    "    image = reshape(xs, size(xs)[2:end]...)\n",
    "    image = convert(Array, image)    \n",
    "    image = image .* 0.5 .+ 0.5\n",
    "    image = clamp.(image, 0.0, 1.0)\n",
    "    image = image .|> N0f8 |> colorview(RGB)\n",
    "    image \n",
    "end"
   ]
  },
  {
   "cell_type": "code",
   "execution_count": 82,
   "id": "810fa565-ebfe-46ae-86f5-bbd0014dc00f",
   "metadata": {},
   "outputs": [
    {
     "name": "stderr",
     "output_type": "stream",
     "text": [
      "WARNING: replacing module Network.\n",
      "WARNING: using Network.UpBlock in module Main conflicts with an existing identifier.\n",
      "WARNING: using Network.MiddleBlock in module Main conflicts with an existing identifier.\n",
      "WARNING: using Network.DownBlock in module Main conflicts with an existing identifier.\n"
     ]
    }
   ],
   "source": [
    "module Network\n",
    "\n",
    "using Knet\n",
    "include(\"primitives.jl\")\n",
    "using .Primitives\n",
    "\n",
    "export DownBlock\n",
    "struct DownBlock; conv1; conv2; sc; activ; end\n",
    "DownBlock(in_ch::Int,out_ch::Int) = \n",
    "    DownBlock(Conv(in_ch, in_ch, 3, 1), Conv(in_ch, out_ch, 3, 1), Conv(in_ch, out_ch, 1, 0, bias=false), LeakyRelu(0.2))\n",
    "function (d::DownBlock)(x)\n",
    "    residual = avg_pool2d(d.sc(x), 2)\n",
    "    out = d.conv2(d.activ(avg_pool2d(d.conv1(d.activ(x)), 2)))\n",
    "    return (residual + out) / sqrt(2)  \n",
    "end\n",
    "\n",
    "export DownBlockIN\n",
    "struct DownBlockIN; conv1; conv2; in1; in2; sc; activ; end\n",
    "DownBlockIN(in_ch::Int,out_ch::Int) = \n",
    "    DownBlockIN(Conv(in_ch, in_ch, 3, 1), Conv(in_ch, out_ch, 3, 1), \n",
    "                InstanceNorm2d(in_ch), InstanceNorm2d(in_ch),\n",
    "                Conv(in_ch, out_ch, 1, 0, bias=false), LeakyRelu(0.2))\n",
    "function (d::DownBlockIN)(x)\n",
    "    residual = avg_pool2d(d.sc(x), 2)\n",
    "    out = d.conv2(d.activ(d.in2(avg_pool2d(d.conv1(d.activ(d.in1(x))), 2))))\n",
    "    return (residual + out) / sqrt(2)  \n",
    "end\n",
    "\n",
    "export UpBlock\n",
    "struct UpBlock; conv1; conv2; sc; activ; end\n",
    "UpBlock(in_ch::Int,out_ch::Int) = \n",
    "    UpBlock(Conv(in_ch, out_ch, 3, 1), Conv(out_ch, out_ch, 3, 1), Conv(in_ch, out_ch, 1, 0, bias=false), LeakyRelu(0.2))\n",
    "function (d::UpBlock)(x)\n",
    "    residual = upsample2d(d.sc(x), 2)\n",
    "    out = d.conv2(d.activ(d.conv1(upsample2d(d.activ(x), 2))))\n",
    "    return (residual + out) / sqrt(2)  \n",
    "end\n",
    "\n",
    "export UpBlockIn\n",
    "struct UpBlockIn; conv1; conv2; in1; in2; sc; activ; end\n",
    "UpBlockIn(in_ch::Int,out_ch::Int) = \n",
    "    UpBlockIn(Conv(in_ch, out_ch, 3, 1), Conv(out_ch, out_ch, 3, 1), \n",
    "              InstanceNorm2d(in_ch), InstanceNorm2d(out_ch),\n",
    "              Conv(in_ch, out_ch, 1, 0, bias=false), LeakyRelu(0.2))\n",
    "function (d::UpBlockIn)(x)\n",
    "    residual = upsample2d(d.sc(x), 2)\n",
    "    out = d.conv2(d.activ(d.in2(d.conv1(upsample2d(d.activ(d.in1(x)), 2)))))\n",
    "    return (residual + out) / sqrt(2)  \n",
    "end\n",
    "\n",
    "\n",
    "export MiddleBlock, num_adain_params, assign_adain_params\n",
    "struct MiddleBlock; conv1; conv2; adain1; adain2; sc; activ; end\n",
    "MiddleBlock(in_ch::Int,out_ch::Int) = \n",
    "    MiddleBlock(Conv(in_ch, out_ch, 3, 1), Conv(out_ch, out_ch, 3, 1), \n",
    "                AdaptiveInstanceNorm2d(in_ch), AdaptiveInstanceNorm2d(out_ch),\n",
    "                Conv(in_ch, out_ch, 1, 0, bias=false), LeakyRelu(0.2))\n",
    "function (d::MiddleBlock)(x)\n",
    "    residual = d.sc(x)\n",
    "    out = d.conv2(d.activ(d.adain2(d.conv1(d.activ(d.adain1(x))))))\n",
    "    return (residual + out) / sqrt(2)  \n",
    "end\n",
    "Primitives.num_adain_params(d::MiddleBlock) = num_adain_params(d.adain1) + num_adain_params(d.adain2)\n",
    "function Primitives.assign_adain_params(d::MiddleBlock, params)\n",
    "    params = assign_adain_params(d.adain1, params)\n",
    "    params = assign_adain_params(d.adain2, params)\n",
    "    return params\n",
    "end\n",
    "\n",
    "#TODO: Extractor, Translator and Mapper\n",
    "#TODO: Generator, Discriminator\n",
    "\n",
    "end\n",
    "\n",
    "using .Network"
   ]
  },
  {
   "cell_type": "code",
   "execution_count": 83,
   "id": "5a7166b4-1df1-4e77-9541-945fe07e835f",
   "metadata": {},
   "outputs": [
    {
     "data": {
      "text/plain": [
       "Main.Network.Primitives.Chain((Main.Network.DownBlock(Main.Network.Primitives.Conv(P(KnetArray{Float32, 4}(3,3,3,3)), P(KnetArray{Float32, 4}(1,1,3,1)), 1, 1), Main.Network.Primitives.Conv(P(KnetArray{Float32, 4}(3,3,3,32)), P(KnetArray{Float32, 4}(1,1,32,1)), 1, 1), Main.Network.Primitives.Conv(P(KnetArray{Float32, 4}(1,1,3,32)), nothing, 0, 1), Main.Network.Primitives.LeakyRelu(0.2)), Main.Network.MiddleBlock(Main.Network.Primitives.Conv(P(KnetArray{Float32, 4}(3,3,32,32)), P(KnetArray{Float32, 4}(1,1,32,1)), 1, 1), Main.Network.Primitives.Conv(P(KnetArray{Float32, 4}(3,3,32,32)), P(KnetArray{Float32, 4}(1,1,32,1)), 1, 1), Main.Network.Primitives.AdaptiveInstanceNorm2d(nothing, nothing, 32, 1.0e-5), Main.Network.Primitives.AdaptiveInstanceNorm2d(nothing, nothing, 32, 1.0e-5), Main.Network.Primitives.Conv(P(KnetArray{Float32, 4}(1,1,32,32)), nothing, 0, 1), Main.Network.Primitives.LeakyRelu(0.2)), Main.Network.UpBlock(Main.Network.Primitives.Conv(P(KnetArray{Float32, 4}(3,3,32,3)), P(KnetArray{Float32, 4}(1,1,3,1)), 1, 1), Main.Network.Primitives.Conv(P(KnetArray{Float32, 4}(3,3,3,3)), P(KnetArray{Float32, 4}(1,1,3,1)), 1, 1), Main.Network.Primitives.Conv(P(KnetArray{Float32, 4}(1,1,32,3)), nothing, 0, 1), Main.Network.Primitives.LeakyRelu(0.2))))"
      ]
     },
     "execution_count": 83,
     "metadata": {},
     "output_type": "execute_result"
    }
   ],
   "source": [
    "c = Network.Chain(\n",
    "    Network.DownBlock(3, 32),\n",
    "    Network.MiddleBlock(32, 32),\n",
    "    Network.UpBlock(32, 3)\n",
    ")"
   ]
  },
  {
   "cell_type": "code",
   "execution_count": 86,
   "id": "44d8754f-dbd9-428c-9e16-5b1bf21150c7",
   "metadata": {},
   "outputs": [
    {
     "data": {
      "text/plain": [
       "128×8 Knet.KnetArrays.KnetMatrix{Float32}:\n",
       " 0.0  0.0  0.0  0.0  0.0  0.0  0.0  0.0\n",
       " 0.0  0.0  0.0  0.0  0.0  0.0  0.0  0.0\n",
       " 0.0  0.0  0.0  0.0  0.0  0.0  0.0  0.0\n",
       " 0.0  0.0  0.0  0.0  0.0  0.0  0.0  0.0\n",
       " 0.0  0.0  0.0  0.0  0.0  0.0  0.0  0.0\n",
       " 0.0  0.0  0.0  0.0  0.0  0.0  0.0  0.0\n",
       " 0.0  0.0  0.0  0.0  0.0  0.0  0.0  0.0\n",
       " 0.0  0.0  0.0  0.0  0.0  0.0  0.0  0.0\n",
       " 0.0  0.0  0.0  0.0  0.0  0.0  0.0  0.0\n",
       " 0.0  0.0  0.0  0.0  0.0  0.0  0.0  0.0\n",
       " 0.0  0.0  0.0  0.0  0.0  0.0  0.0  0.0\n",
       " 0.0  0.0  0.0  0.0  0.0  0.0  0.0  0.0\n",
       " 0.0  0.0  0.0  0.0  0.0  0.0  0.0  0.0\n",
       " ⋮                        ⋮         \n",
       " 0.0  0.0  0.0  0.0  0.0  0.0  0.0  0.0\n",
       " 0.0  0.0  0.0  0.0  0.0  0.0  0.0  0.0\n",
       " 0.0  0.0  0.0  0.0  0.0  0.0  0.0  0.0\n",
       " 0.0  0.0  0.0  0.0  0.0  0.0  0.0  0.0\n",
       " 0.0  0.0  0.0  0.0  0.0  0.0  0.0  0.0\n",
       " 0.0  0.0  0.0  0.0  0.0  0.0  0.0  0.0\n",
       " 0.0  0.0  0.0  0.0  0.0  0.0  0.0  0.0\n",
       " 0.0  0.0  0.0  0.0  0.0  0.0  0.0  0.0\n",
       " 0.0  0.0  0.0  0.0  0.0  0.0  0.0  0.0\n",
       " 0.0  0.0  0.0  0.0  0.0  0.0  0.0  0.0\n",
       " 0.0  0.0  0.0  0.0  0.0  0.0  0.0  0.0\n",
       " 0.0  0.0  0.0  0.0  0.0  0.0  0.0  0.0"
      ]
     },
     "execution_count": 86,
     "metadata": {},
     "output_type": "execute_result"
    }
   ],
   "source": [
    "adain_params = convert(Knet.atype(), zeros(Network.num_adain_params(c.layers[2]), config[\"batch_size\"]))\n",
    "Network.assign_adain_params(c.layers[2], adain_params)\n"
   ]
  },
  {
   "cell_type": "code",
   "execution_count": 94,
   "id": "8e93f53b-0ea4-4e0f-b929-b83f0cba7ed4",
   "metadata": {},
   "outputs": [
    {
     "data": {
      "image/png": "[encoded data removed]",
      "text/plain": [
       "128×128 reinterpret(reshape, RGB{N0f8}, ::Array{N0f8,3}) with eltype RGB{N0f8}:\n",
       " RGB{N0f8}(0.741,0.463,0.725)  …  RGB{N0f8}(0.714,0.443,0.541)\n",
       " RGB{N0f8}(0.753,0.541,0.757)     RGB{N0f8}(0.643,0.337,0.565)\n",
       " RGB{N0f8}(0.427,0.545,0.239)     RGB{N0f8}(0.902,0.133,0.678)\n",
       " RGB{N0f8}(0.486,0.506,0.278)     RGB{N0f8}(0.91,0.153,0.643)\n",
       " RGB{N0f8}(0.663,0.584,0.651)     RGB{N0f8}(0.898,0.106,0.863)\n",
       " RGB{N0f8}(0.592,0.627,0.635)  …  RGB{N0f8}(0.898,0.086,0.871)\n",
       " RGB{N0f8}(0.592,0.62,0.58)       RGB{N0f8}(0.894,0.09,0.957)\n",
       " RGB{N0f8}(0.604,0.616,0.573)     RGB{N0f8}(0.902,0.082,0.957)\n",
       " RGB{N0f8}(0.612,0.675,0.604)     RGB{N0f8}(0.851,0.082,0.98)\n",
       " RGB{N0f8}(0.616,0.675,0.584)     RGB{N0f8}(0.839,0.071,0.969)\n",
       " RGB{N0f8}(0.616,0.635,0.608)  …  RGB{N0f8}(0.827,0.102,0.922)\n",
       " RGB{N0f8}(0.616,0.631,0.608)     RGB{N0f8}(0.827,0.094,0.922)\n",
       " RGB{N0f8}(0.612,0.616,0.604)     RGB{N0f8}(0.824,0.133,0.906)\n",
       " ⋮                             ⋱  \n",
       " RGB{N0f8}(0.686,0.498,0.541)     RGB{N0f8}(0.871,0.0,0.569)\n",
       " RGB{N0f8}(0.678,0.49,0.549)      RGB{N0f8}(0.863,0.0,0.569)\n",
       " RGB{N0f8}(0.682,0.486,0.533)     RGB{N0f8}(0.851,0.0,0.557)\n",
       " RGB{N0f8}(0.678,0.478,0.533)     RGB{N0f8}(0.839,0.0,0.545)\n",
       " RGB{N0f8}(0.686,0.459,0.486)  …  RGB{N0f8}(0.847,0.0,0.541)\n",
       " RGB{N0f8}(0.686,0.459,0.49)      RGB{N0f8}(0.827,0.0,0.529)\n",
       " RGB{N0f8}(0.667,0.486,0.541)     RGB{N0f8}(0.804,0.0,0.522)\n",
       " RGB{N0f8}(0.616,0.427,0.537)     RGB{N0f8}(0.757,0.0,0.529)\n",
       " RGB{N0f8}(0.678,0.118,0.482)     RGB{N0f8}(0.796,0.0,0.596)\n",
       " RGB{N0f8}(0.725,0.227,0.596)  …  RGB{N0f8}(0.773,0.0,0.518)\n",
       " RGB{N0f8}(0.667,0.529,0.537)     RGB{N0f8}(0.878,0.0,0.541)\n",
       " RGB{N0f8}(0.796,0.486,0.682)     RGB{N0f8}(0.925,0.0,0.537)"
      ]
     },
     "execution_count": 94,
     "metadata": {},
     "output_type": "execute_result"
    }
   ],
   "source": [
    "show_image(c(x), 1)"
   ]
  },
  {
   "cell_type": "code",
   "execution_count": null,
   "id": "abbd5edf-8635-44cb-8e1c-0cb5a5e0c5d4",
   "metadata": {},
   "outputs": [],
   "source": []
  },
  {
   "cell_type": "code",
   "execution_count": null,
   "id": "ddc22c3a-4e30-43f8-ae34-15de58231c14",
   "metadata": {},
   "outputs": [],
   "source": []
  },
  {
   "cell_type": "code",
   "execution_count": null,
   "id": "509b83d6-b5e9-45e9-a96d-124e0ac62125",
   "metadata": {},
   "outputs": [],
   "source": []
  }
 ],
 "metadata": {
  "kernelspec": {
   "display_name": "Julia 1.6.3",
   "language": "julia",
   "name": "julia-1.6"
  },
  "language_info": {
   "file_extension": ".jl",
   "mimetype": "application/julia",
   "name": "julia",
   "version": "1.6.3"
  }
 },
 "nbformat": 4,
 "nbformat_minor": 5
}
